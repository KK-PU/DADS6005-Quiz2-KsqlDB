{
 "cells": [
  {
   "cell_type": "code",
   "execution_count": null,
   "id": "7daa7e27",
   "metadata": {},
   "outputs": [
    {
     "name": "stdout",
     "output_type": "stream",
     "text": [
      "Topic Name=topic1,Message=b'Hello-2 Kafka...'\n",
      "Topic Name=topic1,Message=b'Hello-1 Kafka...'\n",
      "Topic Name=topic1,Message=b'Hello-3 Kafka...'\n",
      "Topic Name=topic1,Message=b'Hello-3 Kafka...'\n",
      "Topic Name=topic1,Message=b'Hello-3 Kafka...'\n",
      "Topic Name=topic1,Message=b'Hello-3 Kafka...'\n",
      "Topic Name=topic1,Message=b'Hello-3 Kafka...'\n",
      "Topic Name=topic1,Message=b'Hello-3 Kafka...'\n"
     ]
    }
   ],
   "source": [
    "from kafka import KafkaConsumer\n",
    "\n",
    "# Define server with port\n",
    "bootstrap_servers = ['localhost:29092']\n",
    "\n",
    "# Define topic name from where the message will recieve\n",
    "topicName = 'topic1'\n",
    "\n",
    "# Initialize consumer variable\n",
    "consumer = KafkaConsumer (topicName , auto_offset_reset='earliest', bootstrap_servers = bootstrap_servers)\n",
    "\n",
    "# Read and print message from consumer\n",
    "for msg in consumer:\n",
    "    print(\"Topic Name=%s,Message=%s\"%(msg.topic,msg.value))"
   ]
  },
  {
   "cell_type": "code",
   "execution_count": null,
   "id": "3f39ee9a",
   "metadata": {},
   "outputs": [],
   "source": []
  }
 ],
 "metadata": {
  "kernelspec": {
   "display_name": "Python 3 (ipykernel)",
   "language": "python",
   "name": "python3"
  },
  "language_info": {
   "codemirror_mode": {
    "name": "ipython",
    "version": 3
   },
   "file_extension": ".py",
   "mimetype": "text/x-python",
   "name": "python",
   "nbconvert_exporter": "python",
   "pygments_lexer": "ipython3",
   "version": "3.9.13"
  }
 },
 "nbformat": 4,
 "nbformat_minor": 5
}
