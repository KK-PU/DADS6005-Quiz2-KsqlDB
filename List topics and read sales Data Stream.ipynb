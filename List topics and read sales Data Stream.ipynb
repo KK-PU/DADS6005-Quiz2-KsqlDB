{
 "cells": [
  {
   "cell_type": "code",
   "execution_count": 1,
   "id": "15237cdc",
   "metadata": {},
   "outputs": [
    {
     "data": {
      "text/plain": [
       "{'__confluent.support.metrics',\n",
       " '_schemas',\n",
       " 'connect-status',\n",
       " 'connect_configs',\n",
       " 'connect_offsets',\n",
       " 'source.public.db_food_coded2_stream',\n",
       " 'source.public.db_test2_streaming',\n",
       " 'test',\n",
       " 'topic1'}"
      ]
     },
     "execution_count": 1,
     "metadata": {},
     "output_type": "execute_result"
    }
   ],
   "source": [
    "from kafka import KafkaConsumer\n",
    "bootstrap_servers = ['localhost:29092']\n",
    "consumer = KafkaConsumer( bootstrap_servers=bootstrap_servers)\n",
    "consumer.topics()"
   ]
  },
  {
   "cell_type": "code",
   "execution_count": null,
   "id": "4f955e25",
   "metadata": {},
   "outputs": [],
   "source": [
    "import json\n",
    "\n",
    "bootstrap_servers = ['localhost:29092']\n",
    "\n",
    "topicName = 'source.public.db_food_coded2_stream'\n",
    "\n",
    "consumer = KafkaConsumer (topicName , auto_offset_reset='earliest' ,\n",
    "                          bootstrap_servers = bootstrap_servers)\n",
    "\n",
    "# Read and print message from consumer\n",
    "for msg in consumer:\n",
    "    print(json.loads(msg.value))"
   ]
  },
  {
   "cell_type": "code",
   "execution_count": null,
   "id": "8af0adfb",
   "metadata": {},
   "outputs": [],
   "source": []
  }
 ],
 "metadata": {
  "kernelspec": {
   "display_name": "Python 3 (ipykernel)",
   "language": "python",
   "name": "python3"
  },
  "language_info": {
   "codemirror_mode": {
    "name": "ipython",
    "version": 3
   },
   "file_extension": ".py",
   "mimetype": "text/x-python",
   "name": "python",
   "nbconvert_exporter": "python",
   "pygments_lexer": "ipython3",
   "version": "3.9.13"
  }
 },
 "nbformat": 4,
 "nbformat_minor": 5
}
